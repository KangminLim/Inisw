{
  "cells": [
    {
      "cell_type": "code",
      "execution_count": 1,
      "metadata": {
        "colab": {
          "base_uri": "https://localhost:8080/"
        },
        "id": "Er_TjSX_38Ns",
        "outputId": "565c0ed9-d89a-45d1-d657-202a9c9915e2"
      },
      "outputs": [
        {
          "name": "stdout",
          "output_type": "stream",
          "text": [
            "/content/drive/MyDrive/Colab Notebooks/MIL-NCE_HowTo100M/npy\n"
          ]
        }
      ],
      "source": [
        "cd /content/drive/MyDrive/Colab Notebooks/MIL-NCE_HowTo100M/npy"
      ]
    },
    {
      "cell_type": "code",
      "execution_count": null,
      "metadata": {
        "id": "LEoBayS54P-M"
      },
      "outputs": [],
      "source": []
    },
    {
      "cell_type": "code",
      "execution_count": null,
      "metadata": {
        "id": "DR518MQtFZHb"
      },
      "outputs": [],
      "source": [
        "import torch\n",
        "import torch.nn as nn\n",
        "import torch.optim as optim\n",
        "import matplotlib.pyplot as plt\n",
        "\n",
        "# 데이터를 GPU로 이동\n",
        "video = video_data.to(device)\n",
        "audio = audio_data.to(device)\n",
        "\n",
        "# 장치 설정\n",
        "device = torch.device(\"cuda\" if torch.cuda.is_available() else \"cpu\")\n",
        "\n",
        "# 모델 초기화 및 GPU로 이동\n",
        "model = proj_head().to(device)\n",
        "model.train()\n",
        "\n",
        "# 손실 함수 및 옵티마이저 설정\n",
        "loss_fn = NCELoss()\n",
        "optimizer = optim.Adam(model.parameters(), lr=0.001)\n",
        "\n",
        "# 학습 및 검증 파라미터 설정\n",
        "num_epochs = 200\n",
        "batch_size = 64\n",
        "validation_batch_size = 4\n",
        "NCElosses = []\n",
        "validation_losses = []\n",
        "\n",
        "# 학습 및 검증 반복\n",
        "for epoch in range(num_epochs):\n",
        "    optimizer.zero_grad()  # 그라디언트 초기화\n",
        "\n",
        "    # 트레이닝 데이터에서 배치 단위로 데이터 가져오기\n",
        "    num_samples = len(video)\n",
        "    indices = torch.randperm(num_samples)\n",
        "    video = video[indices]\n",
        "    audio = audio[indices]\n",
        "\n",
        "    for i in range(0, num_samples, batch_size):\n",
        "        # 배치 데이터 가져오기\n",
        "        video_batch = video[i:i+batch_size]\n",
        "        audio_batch = audio[i:i+batch_size]\n",
        "\n",
        "        # Forward pass\n",
        "        v_, a_ = model.forward(x=video_batch, y=audio_batch)\n",
        "        NCEloss = loss_fn(v_, a_)  # 손실 계산\n",
        "\n",
        "        # Backward pass 및 가중치 업데이트\n",
        "        NCEloss.backward()\n",
        "        optimizer.step()\n",
        "\n",
        "        NCElosses.append(NCEloss.item())\n",
        "\n",
        "    # 검증 데이터에 대한 손실 계산\n",
        "    with torch.no_grad():\n",
        "        # 트레이닝 데이터에서 배치 크기로 데이터 가져오기\n",
        "        num_validation_batches = num_samples // batch_size\n",
        "\n",
        "        for i in range(num_validation_batches):\n",
        "            # 배치 데이터 가져오기\n",
        "            validation_indices = torch.randperm(num_samples)[:validation_batch_size]\n",
        "            video_batch = video[validation_indices].to(device)\n",
        "            audio_batch = audio[validation_indices].to(device)\n",
        "\n",
        "            # Forward pass\n",
        "            v_, a_ = model.forward(x=video_batch, y=audio_batch)\n",
        "            NCEloss = loss_fn(v_, a_)  # 손실 계산\n",
        "\n",
        "            validation_losses.append(NCEloss.item())\n",
        "\n",
        "    # 현재 에포크의 학습 및 검증 손실 출력\n",
        "    print(f\"Epoch {epoch+1}/{num_epochs}, Train Loss: {NCElosses[-1]}, Validation Loss: {validation_losses[-1]}\")\n",
        "\n",
        "# 학습 및 검증 손실 그래프 출력\n",
        "plt.plot(NCElosses, label='Train Loss')\n",
        "plt.plot(validation_losses, label='Validation Loss')\n",
        "plt.title('Loss')\n",
        "plt.xlabel('Epoch')\n",
        "plt.ylabel('Loss')\n",
        "plt.legend()\n",
        "plt.show()\n",
        "\n",
        "# 학습 완료 후 모델 저장\n",
        "torch.save(model.state_dict(), 'NCEloss.pth')\n"
      ]
    },
    {
      "cell_type": "code",
      "execution_count": null,
      "metadata": {
        "id": "hyXV2E6pFZFw"
      },
      "outputs": [],
      "source": []
    },
    {
      "attachments": {},
      "cell_type": "markdown",
      "metadata": {
        "id": "1FbPmKFieeO6"
      },
      "source": [
        "Proj_head"
      ]
    },
    {
      "cell_type": "code",
      "execution_count": 2,
      "metadata": {
        "id": "5hZQZFuGm3xB"
      },
      "outputs": [],
      "source": [
        "import torch\n",
        "import torch as th\n",
        "import torch.nn as nn\n",
        "import torch.optim as optim\n",
        "import matplotlib.pyplot as plt\n",
        "import numpy as np\n",
        "import random\n",
        "from torch.utils.data import Dataset, DataLoader, random_split\n",
        "import torch.optim as optim\n",
        "import matplotlib.pyplot as plt"
      ]
    },
    {
      "cell_type": "code",
      "execution_count": 7,
      "metadata": {
        "id": "XxfVEuCTeeO6"
      },
      "outputs": [],
      "source": [
        "video_data = np.load('video_before_head.npy')\n",
        "video_data = th.from_numpy(video_data)\n",
        "video_data = video_data.squeeze(1)\n",
        "audio_data = np.load('audio_before_head.npy')\n",
        "audio_data = th.from_numpy(audio_data)\n",
        "audio_data = audio_data.squeeze(1)\n",
        "text_data = np.load('text_before_head1.npy')\n",
        "text_data = th.from_numpy(text_data)\n",
        "text_data = audio_data.squeeze(1)"
      ]
    },
    {
      "cell_type": "code",
      "execution_count": 36,
      "metadata": {
        "id": "F5OCxNoX44Q7"
      },
      "outputs": [],
      "source": [
        "class CustomtrainDataset(torch.utils.data.Dataset):\n",
        "  def __init__(self,):\n",
        "    self.x_data = np.load('video_before_head.npy', allow_pickle=True)\n",
        "    self.y_data = np.load('audio_before_head.npy', allow_pickle=True)\n",
        "    self.z_data = np.load('text_before_head1.npy', allow_pickle=True)\n",
        "\n",
        "  def __len__(self):\n",
        "      return len(self.x_data)\n",
        "\n",
        "  def __getitem__(self, idx):\n",
        "      x = self.x_data[idx]\n",
        "      y = self.y_data[idx]\n",
        "      z = self.z_data[idx]\n",
        "      z = z.squeeze(0)\n",
        "      x_t = th.from_numpy(x).to(device)\n",
        "      y_t = th.from_numpy(y).to(device)\n",
        "      z_t = th.from_numpy(z).to(device)\n",
        "\n",
        "      return x_t, y_t, z_t"
      ]
    },
    {
      "cell_type": "code",
      "execution_count": 37,
      "metadata": {
        "id": "l_bHdJZo5qx4"
      },
      "outputs": [],
      "source": [
        "dataset = CustomtrainDataset()"
      ]
    },
    {
      "cell_type": "code",
      "execution_count": 38,
      "metadata": {
        "colab": {
          "base_uri": "https://localhost:8080/"
        },
        "id": "fBTSqmIdDXYq",
        "outputId": "ac218321-c543-4e64-8fc0-5c368ef988e6"
      },
      "outputs": [
        {
          "data": {
            "text/plain": [
              "(tensor([0.0552, 0.0243, 0.0049,  ..., 0.0000, 0.0047, 0.0051], device='cuda:0'),\n",
              " tensor([0.0000, 0.9040, 0.0000,  ..., 0.0000, 0.0000, 0.0000], device='cuda:0'),\n",
              " tensor([0.1386, 0.2650, 0.0000,  ..., 0.1745, 0.1241, 0.1622], device='cuda:0'))"
            ]
          },
          "execution_count": 38,
          "metadata": {},
          "output_type": "execute_result"
        }
      ],
      "source": [
        "dataset.__getitem__(339)"
      ]
    },
    {
      "cell_type": "code",
      "execution_count": 40,
      "metadata": {
        "colab": {
          "base_uri": "https://localhost:8080/"
        },
        "id": "7aucWtWqEN7V",
        "outputId": "f951eb18-cea7-471a-f75c-8dd08a1224e6"
      },
      "outputs": [
        {
          "data": {
            "text/plain": [
              "torch.Size([2048])"
            ]
          },
          "execution_count": 40,
          "metadata": {},
          "output_type": "execute_result"
        }
      ],
      "source": [
        "a, b, c = next(iter(dataset))\n",
        "c.shape"
      ]
    },
    {
      "cell_type": "code",
      "execution_count": 41,
      "metadata": {
        "colab": {
          "base_uri": "https://localhost:8080/"
        },
        "id": "TpXaLMi25_J0",
        "outputId": "4e8eb547-5a15-4617-808b-e6cb5c7789bb"
      },
      "outputs": [
        {
          "name": "stdout",
          "output_type": "stream",
          "text": [
            "Training Data Size : 272\n",
            "Validation Data Size : 34\n",
            "Testing Data Size : 34\n"
          ]
        },
        {
          "data": {
            "text/plain": [
              "True"
            ]
          },
          "execution_count": 41,
          "metadata": {},
          "output_type": "execute_result"
        }
      ],
      "source": [
        "# 데이터셋 스플릿\n",
        "dataset_size = len(dataset)\n",
        "train_size = int(dataset_size * 0.8)\n",
        "validation_size =int(dataset_size *0.1)\n",
        "test_size = dataset_size - train_size - validation_size\n",
        "\n",
        "generator1 = torch.Generator().manual_seed(42) # random seed 고정\n",
        "train_dataset, validation_dataset, test_dataset = \\\n",
        "random_split(dataset, [train_size, validation_size, test_size], generator1)\n",
        "\n",
        "print(f\"Training Data Size : {len(train_dataset)}\")\n",
        "print(f\"Validation Data Size : {len(validation_dataset)}\")\n",
        "print(f\"Testing Data Size : {len(test_dataset)}\")\n",
        "\n",
        "train_dataloader = DataLoader(train_dataset, batch_size=64, shuffle = False, drop_last = True)\n",
        "validation_dataloader = DataLoader(validation_dataset, batch_size=32, shuffle = False, drop_last = True)\n",
        "test_dataloader = DataLoader(test_dataset, batch_size=32, shuffle = False, drop_last = True)\n",
        "\n",
        "device = torch.device(\"cuda\" if torch.cuda.is_available() else \"cpu\")\n",
        "torch.cuda.is_available()"
      ]
    },
    {
      "attachments": {},
      "cell_type": "markdown",
      "metadata": {
        "id": "-ZR_OSud_FUT"
      },
      "source": [
        "데이터셋 확인"
      ]
    },
    {
      "cell_type": "code",
      "execution_count": 44,
      "metadata": {
        "colab": {
          "base_uri": "https://localhost:8080/"
        },
        "id": "fgbJe-TFExZu",
        "outputId": "8e96fca2-1b48-40a9-8426-5103eeb4d1e8"
      },
      "outputs": [
        {
          "data": {
            "text/plain": [
              "torch.Size([64, 1024])"
            ]
          },
          "execution_count": 44,
          "metadata": {},
          "output_type": "execute_result"
        }
      ],
      "source": [
        "a, b, c = next(iter(train_dataloader))\n",
        "a.shape"
      ]
    },
    {
      "attachments": {},
      "cell_type": "markdown",
      "metadata": {
        "id": "AJ0hIQF3Qvqv"
      },
      "source": [
        "proj_head"
      ]
    },
    {
      "cell_type": "code",
      "execution_count": 65,
      "metadata": {
        "id": "-oaBrIytHzaY"
      },
      "outputs": [],
      "source": [
        "class proj_head(nn.Module):\n",
        "  def __init__(self):\n",
        "    super().__init__()\n",
        "    self.vid = nn.Sequential(\n",
        "        nn.Linear(1024, 512, bias=True),\n",
        "        nn.BatchNorm1d(512),\n",
        "        nn.ReLU(),\n",
        "        nn.Linear(512, 512, bias=True),\n",
        "        nn.BatchNorm1d(512),\n",
        "    )\n",
        "    self.aud = nn.Linear(2048, 512, bias=True)\n",
        "    self.tex = nn.Sequential(\n",
        "        nn.Linear(2048, 512, bias=True),\n",
        "        nn.ReLU()\n",
        "    )\n",
        "  def forward(self, x, y, z):\n",
        "    x1 = self.vid(x)\n",
        "    y1 = self.aud(y)\n",
        "    z1 = self.tex(z)\n",
        "    return x1, y1, z1"
      ]
    },
    {
      "attachments": {},
      "cell_type": "markdown",
      "metadata": {
        "id": "PwEJeCsyQyQS"
      },
      "source": [
        "NCELoss"
      ]
    },
    {
      "cell_type": "code",
      "execution_count": 66,
      "metadata": {
        "id": "jE8w7ndrHt_s"
      },
      "outputs": [],
      "source": [
        "class NCELoss(nn.Module):\n",
        "    def __init__(self ,temperature=0.07):\n",
        "        super(NCELoss, self).__init__()\n",
        "        self.temperature = temperature\n",
        "\n",
        "    def forward(self, v_f, a_f, t_f):\n",
        "        v_f = F.normalize(v_f, dim=-1)\n",
        "        a_f = F.normalize(a_f, dim=-1)\n",
        "        t_f = F.normalize(t_f, dim=-1)\n",
        "        possim1 = []\n",
        "        negsim1 = []\n",
        "        NCE = []\n",
        "        start_index = 0\n",
        "\n",
        "        # Pos, neg pair 만들기\n",
        "        for i in range(v_f.size(0)):\n",
        "            possim = torch.matmul(v_f[i], a_f[i])\n",
        "            possim1.append(possim)\n",
        "            for j in range(v_f.size(0)):\n",
        "                if i != j:\n",
        "                    negsim = torch.matmul(v_f[i], a_f[j])\n",
        "                    negsim1.append(negsim)\n",
        "\n",
        "        # NCELoss 계산\n",
        "        for k in range(v_f.size(0)):\n",
        "            sumexp_all = 0\n",
        "            sumexp_neg = 0\n",
        "            end_index = start_index + v_f.size(0)\n",
        "            exp_pos = torch.exp(possim1[k] / self.temperature)\n",
        "\n",
        "            for l in range(end_index):\n",
        "                sumexp_neg += torch.exp(negsim1[l] / self.temperature)\n",
        "            sumexp_all = exp_pos + sumexp_neg\n",
        "            loss = torch.log(sumexp_all) - torch.log(exp_pos)\n",
        "            NCE.append(loss)\n",
        "\n",
        "\n",
        "        possim_vt1 = []\n",
        "        negsim_vt1 = []\n",
        "        NCE_vt = []\n",
        "        start_index_vt = 0\n",
        "\n",
        "        # Pos, neg pair 만들기\n",
        "        for i in range(v_f.size(0)):\n",
        "            possim_vt = torch.matmul(v_f[i], t_f[i])\n",
        "            possim_vt1.append(possim_vt)\n",
        "            for j in range(v_f.size(0)):\n",
        "                if i != j:\n",
        "                    negsim_vt = torch.matmul(v_f[i], t_f[j])\n",
        "                    negsim_vt1.append(negsim_vt)\n",
        "\n",
        "        # NCELoss 계산\n",
        "        for k in range(v_f.size(0)):\n",
        "            sumexp_all_vt = 0\n",
        "            sumexp_neg_vt = 0\n",
        "            end_index_vt = start_index_vt + v_f.size(0)\n",
        "            exp_pos_vt = torch.exp(possim_vt1[k] / self.temperature)\n",
        "\n",
        "            for l in range(end_index_vt):\n",
        "                sumexp_neg_vt += torch.exp(negsim_vt1[l] / self.temperature)\n",
        "            sumexp_all_vt = exp_pos_vt + sumexp_neg_vt\n",
        "            loss_vt = torch.log(sumexp_all_vt) - torch.log(exp_pos_vt)\n",
        "            NCE_vt.append(loss_vt)\n",
        "        # list -> tensor화\n",
        "        NCE = torch.stack(NCE)\n",
        "        NCE_vt = torch.stack(NCE_vt)\n",
        "        # None값 제거\n",
        "        NCE = torch.where(torch.isnan(NCE), torch.zeros_like(NCE), NCE)\n",
        "        NCE_vt = torch.where(torch.isnan(NCE_vt), torch.zeros_like(NCE_vt), NCE_vt)\n",
        "\n",
        "        loss = torch.mean(NCE)\n",
        "        loss_vt = torch.mean(NCE_vt)\n",
        "        return loss, loss_vt\n"
      ]
    },
    {
      "attachments": {},
      "cell_type": "markdown",
      "metadata": {
        "id": "xAGYgHovQ1If"
      },
      "source": [
        "Train & Val"
      ]
    },
    {
      "cell_type": "code",
      "execution_count": 72,
      "metadata": {
        "colab": {
          "base_uri": "https://localhost:8080/",
          "height": 1000
        },
        "id": "94BiSozIHt_6",
        "outputId": "792a23b3-1da6-4d25-9171-70c12135a733"
      },
      "outputs": [
        {
          "name": "stdout",
          "output_type": "stream",
          "text": [
            "Epoch 1/30, Train Loss: 8.693027973175049, Validation Loss: 7.190041542053223\n",
            "Epoch 2/30, Train Loss: 7.7093483209609985, Validation Loss: 7.129622459411621\n",
            "Epoch 3/30, Train Loss: 6.83425498008728, Validation Loss: 7.096473693847656\n",
            "Epoch 4/30, Train Loss: 6.056412696838379, Validation Loss: 7.063610076904297\n",
            "Epoch 5/30, Train Loss: 5.372936010360718, Validation Loss: 7.024621963500977\n",
            "Epoch 6/30, Train Loss: 4.7684286236763, Validation Loss: 6.981481075286865\n",
            "Epoch 7/30, Train Loss: 4.2370946407318115, Validation Loss: 6.929004192352295\n",
            "Epoch 8/30, Train Loss: 3.776310622692108, Validation Loss: 6.863743782043457\n",
            "Epoch 9/30, Train Loss: 3.378144860267639, Validation Loss: 6.7830305099487305\n",
            "Epoch 10/30, Train Loss: 3.0329774022102356, Validation Loss: 6.681540489196777\n",
            "Epoch 11/30, Train Loss: 2.7338099479675293, Validation Loss: 6.556900978088379\n",
            "Epoch 12/30, Train Loss: 2.4723354876041412, Validation Loss: 6.408235549926758\n",
            "Epoch 13/30, Train Loss: 2.2438876926898956, Validation Loss: 6.236522674560547\n",
            "Epoch 14/30, Train Loss: 2.0417052805423737, Validation Loss: 6.047812461853027\n",
            "Epoch 15/30, Train Loss: 1.8624630570411682, Validation Loss: 5.855988502502441\n",
            "Epoch 16/30, Train Loss: 1.7036895453929901, Validation Loss: 5.6817097663879395\n",
            "Epoch 17/30, Train Loss: 1.5621808469295502, Validation Loss: 5.548271656036377\n",
            "Epoch 18/30, Train Loss: 1.435999870300293, Validation Loss: 5.471466541290283\n",
            "Epoch 19/30, Train Loss: 1.323084533214569, Validation Loss: 5.454738616943359\n",
            "Epoch 20/30, Train Loss: 1.2222378998994827, Validation Loss: 5.489087104797363\n",
            "Epoch 21/30, Train Loss: 1.1321788281202316, Validation Loss: 5.560332775115967\n",
            "Epoch 22/30, Train Loss: 1.051812805235386, Validation Loss: 5.6543989181518555\n",
            "Epoch 23/30, Train Loss: 0.9802578389644623, Validation Loss: 5.75908088684082\n",
            "Epoch 24/30, Train Loss: 0.915912464261055, Validation Loss: 5.865327835083008\n",
            "Epoch 25/30, Train Loss: 0.8582131266593933, Validation Loss: 5.968116760253906\n",
            "Epoch 26/30, Train Loss: 0.8064621686935425, Validation Loss: 6.0657806396484375\n",
            "Epoch 27/30, Train Loss: 0.7599509060382843, Validation Loss: 6.159041404724121\n",
            "Epoch 28/30, Train Loss: 0.718000516295433, Validation Loss: 6.248723030090332\n",
            "Epoch 29/30, Train Loss: 0.680244192481041, Validation Loss: 6.336391448974609\n",
            "Epoch 30/30, Train Loss: 0.6461535766720772, Validation Loss: 6.4219746589660645\n"
          ]
        },
        {
          "data": {
            "image/png": "[encoded data removed]",
            "text/plain": [
              "<Figure size 640x480 with 1 Axes>"
            ]
          },
          "metadata": {},
          "output_type": "display_data"
        }
      ],
      "source": [
        "# 모델 초기화 및 GPU로 이동\n",
        "model = proj_head().to(device)\n",
        "\n",
        "# 손실 함수 및 옵티마이저 설정\n",
        "loss_fn = NCELoss()\n",
        "optimizer = optim.Adam(model.parameters(), lr=0.00001, weight_decay=0.0001)\n",
        "\n",
        "# 학습 및 검증 파라미터 설정\n",
        "num_epochs = 30\n",
        "NCElosses = []\n",
        "validation_losses = []\n",
        "\n",
        "# 학습 및 검증 반복\n",
        "for epoch in range(num_epochs):\n",
        "    all_loss = 0\n",
        "    optimizer.zero_grad()  # 그라디언트 초기화\n",
        "\n",
        "    # 트레이닝 데이터에서 배치 단위로 데이터 가져오기\n",
        "    model.train()\n",
        "    for video, audio, text in train_dataloader:\n",
        "        # Forward pass\n",
        "        video = video.to(device)\n",
        "        audio = audio.to(device)\n",
        "        text = text.to(device)\n",
        "        v_, a_, t_ = model.forward(x=video, y=audio, z=text)\n",
        "        NCEloss1, NCEloss2 = loss_fn(v_, a_, t_)  # 손실 계산\n",
        "        # print(NCEloss1,NCEloss2)\n",
        "        NCEloss = NCEloss1 + NCEloss2\n",
        "        all_loss += NCEloss.item()\n",
        "        # Backward pass 및 가중치 업데이트\n",
        "        NCEloss.backward()\n",
        "        optimizer.step()\n",
        "        gc.collect()\n",
        "        torch.cuda.empty_cache()\n",
        "\n",
        "    with torch.no_grad():\n",
        "        # 검증 데이터에 대한 손실 계산\n",
        "        model.eval()\n",
        "        val_loss = 0\n",
        "        # 트레이닝 데이터에서 배치 크기로 데이터 가져오기\n",
        "        for video, audio, text in validation_dataloader:\n",
        "\n",
        "            v_, a_, t_ = model.forward(x=video, y=audio, z=text)\n",
        "            NCEloss1, NCEloss2 = loss_fn(v_, a_, t_)  # 손실 계산\n",
        "            # print(NCEloss1,NCEloss2)\n",
        "            NCEloss = NCEloss1 + NCEloss2\n",
        "            val_loss += NCEloss.item()\n",
        "            gc.collect()\n",
        "            torch.cuda.empty_cache()\n",
        "\n",
        "    epoch_loss = all_loss / len(train_dataloader)\n",
        "    valid_epoch_loss = val_loss / len(validation_dataloader)\n",
        "    NCElosses.append(epoch_loss)\n",
        "    validation_losses.append(valid_epoch_loss)\n",
        "\n",
        "    # 현재 에포크의 학습 및 검증 손실 출력\n",
        "    print(f\"Epoch {epoch+1}/{num_epochs}, Train Loss: {epoch_loss}, Validation Loss: {valid_epoch_loss}\")\n",
        "    gc.collect()\n",
        "    torch.cuda.empty_cache()\n",
        "\n",
        "# 학습 및 검증 손실 그래프 출력\n",
        "plt.plot(NCElosses, label='Train Loss')\n",
        "plt.plot(validation_losses, label='Validation Loss')\n",
        "plt.title('Loss(weight_decay=0.0001)')\n",
        "plt.xlabel('Epoch')\n",
        "plt.ylabel('Loss')\n",
        "plt.legend()\n",
        "plt.show()\n",
        "\n",
        "# 학습 완료 후 모델 저장\n",
        "torch.save(model.state_dict(), 'weight_decay00001.pth')\n"
      ]
    },
    {
      "attachments": {},
      "cell_type": "markdown",
      "metadata": {
        "id": "PDC6kpDFBACk"
      },
      "source": [
        "inference"
      ]
    },
    {
      "cell_type": "code",
      "execution_count": 84,
      "metadata": {
        "colab": {
          "base_uri": "https://localhost:8080/"
        },
        "id": "DdBzoNr-Hb-h",
        "outputId": "189e2ebe-558a-431c-9cb8-a6aabdc837a5"
      },
      "outputs": [
        {
          "name": "stdout",
          "output_type": "stream",
          "text": [
            "tensor([-0.0249,  0.0284,  0.1827, -0.2291,  0.1378,  0.0488,  0.0029, -0.0357,\n",
            "         0.1498, -0.1133,  0.0183,  0.1077,  0.0801, -0.0142, -0.0064, -0.0433,\n",
            "        -0.1689,  0.0854, -0.0669,  0.1093,  0.0793, -0.0371,  0.0450,  0.1085,\n",
            "         0.0627,  0.0797, -0.1465,  0.0127,  0.0244,  0.1683, -0.0466,  0.0286],\n",
            "       device='cuda:0', grad_fn=<SumBackward1>) tensor([-0.0436,  0.0249,  0.1531, -0.1985,  0.0887,  0.0434, -0.0140, -0.0654,\n",
            "         0.0872, -0.1107,  0.0232,  0.1375,  0.1024, -0.1003,  0.0389, -0.0590,\n",
            "        -0.1612,  0.0644, -0.0134,  0.1138,  0.1131, -0.0126,  0.0351,  0.0519,\n",
            "         0.0323,  0.0075, -0.1532, -0.0791,  0.0016,  0.1582, -0.1163, -0.0750],\n",
            "       device='cuda:0', grad_fn=<SumBackward1>)\n",
            "비디오-오디오 및 비디오-텍스트 쌍의 랭킹:\n",
            "tensor([ 2, 29, 11,  8,  4, 19, 20, 12, 23, 17, 24,  5, 25, 22,  1, 10, 14, 28,\n",
            "         6, 31, 21, 27,  0, 18,  7, 15, 13, 30,  9, 26, 16,  3],\n",
            "       device='cuda:0')\n"
          ]
        }
      ],
      "source": [
        "model = proj_head().to(device)\n",
        "model.load_state_dict(torch.load('weight_decay00001.pth'))\n",
        "model.eval()\n",
        "similarities = []\n",
        "for video, audio, text in test_dataloader:\n",
        "  # 모델을 통과한 후의 결과 얻기\n",
        "  video_feature, audio_feature, text_feature = model(video, audio, text)\n",
        "\n",
        "  # 코사인 유사도 계산\n",
        "  similarity1 = torch.cosine_similarity(video_feature, audio_feature)\n",
        "  similarity2 = torch.cosine_similarity(video_feature, text_feature)\n",
        "  print(similarity1,similarity2)\n",
        "  similarity = (similarity1+similarity2)/2\n",
        "  similarities.append(similarity)\n",
        "# 비디오-오디오 쌍의 랭킹 계산\n",
        "_, ranking = similarity.sort(descending=True)\n",
        "\n",
        "print(\"비디오-오디오 및 비디오-텍스트 쌍의 랭킹:\")\n",
        "print(ranking)"
      ]
    },
    {
      "cell_type": "code",
      "execution_count": 80,
      "metadata": {
        "colab": {
          "base_uri": "https://localhost:8080/"
        },
        "id": "OfY8WVw5U6a_",
        "outputId": "5192a802-a419-4c6c-db58-b6d54d75aab8"
      },
      "outputs": [
        {
          "data": {
            "text/plain": [
              "tensor(0.1632, device='cuda:0', grad_fn=<SelectBackward0>)"
            ]
          },
          "execution_count": 80,
          "metadata": {},
          "output_type": "execute_result"
        }
      ],
      "source": [
        "similarity[29]"
      ]
    },
    {
      "cell_type": "code",
      "execution_count": null,
      "metadata": {
        "id": "GpF1CPUDVSqp"
      },
      "outputs": [],
      "source": []
    }
  ],
  "metadata": {
    "accelerator": "GPU",
    "colab": {
      "gpuType": "T4",
      "provenance": []
    },
    "kernelspec": {
      "display_name": "Python 3",
      "name": "python3"
    },
    "language_info": {
      "name": "python"
    }
  },
  "nbformat": 4,
  "nbformat_minor": 0
}
